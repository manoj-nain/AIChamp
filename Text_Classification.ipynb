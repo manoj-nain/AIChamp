{
  "nbformat": 4,
  "nbformat_minor": 0,
  "metadata": {
    "colab": {
      "name": "Text_Classification.ipynb",
      "provenance": [],
      "collapsed_sections": [],
      "authorship_tag": "ABX9TyOkLWiiyiOmR3vBKffr0R3N",
      "include_colab_link": true
    },
    "kernelspec": {
      "name": "python3",
      "display_name": "Python 3"
    },
    "accelerator": "GPU"
  },
  "cells": [
    {
      "cell_type": "markdown",
      "metadata": {
        "id": "view-in-github",
        "colab_type": "text"
      },
      "source": [
        "<a href=\"https://colab.research.google.com/github/manoj-nain/AIChamp/blob/master/Text_Classification.ipynb\" target=\"_parent\"><img src=\"https://colab.research.google.com/assets/colab-badge.svg\" alt=\"Open In Colab\"/></a>"
      ]
    },
    {
      "cell_type": "code",
      "metadata": {
        "id": "00y_sUM06N49",
        "outputId": "5214c19f-adb8-486d-9d45-7580cd01e362",
        "colab": {
          "base_uri": "https://localhost:8080/"
        }
      },
      "source": [
        "from google.colab import drive\n",
        "drive.mount('/content/drive')"
      ],
      "execution_count": 1,
      "outputs": [
        {
          "output_type": "stream",
          "text": [
            "Mounted at /content/drive\n"
          ],
          "name": "stdout"
        }
      ]
    },
    {
      "cell_type": "code",
      "metadata": {
        "id": "I1aqyyWNvEbR"
      },
      "source": [
        "#!pip install tensorflow-gpu"
      ],
      "execution_count": 2,
      "outputs": []
    },
    {
      "cell_type": "code",
      "metadata": {
        "id": "vcUMUxPfvH2F",
        "outputId": "3d7edfc8-30fe-4ab1-c415-4b6544e2e270",
        "colab": {
          "base_uri": "https://localhost:8080/"
        }
      },
      "source": [
        "!pip install tqdm"
      ],
      "execution_count": 3,
      "outputs": [
        {
          "output_type": "stream",
          "text": [
            "Requirement already satisfied: tqdm in /usr/local/lib/python3.6/dist-packages (4.41.1)\n"
          ],
          "name": "stdout"
        }
      ]
    },
    {
      "cell_type": "code",
      "metadata": {
        "id": "v4gJnZ8yvOsl"
      },
      "source": [
        "from tqdm import tqdm\n",
        "from tensorflow.keras.preprocessing.sequence import pad_sequences\n",
        "from tensorflow.keras.layers import Dense, Dropout, LSTM, Embedding, Bidirectional\n",
        "from tensorflow.keras.models import Sequential\n",
        "from tensorflow.keras.preprocessing.text import Tokenizer\n",
        "from tensorflow.keras.preprocessing.sequence import pad_sequences\n",
        "from tensorflow.keras.utils import to_categorical\n",
        "from tensorflow.keras.callbacks import TensorBoard\n",
        "from sklearn.model_selection import train_test_split\n",
        "import numpy as np\n",
        "\n",
        "from glob import glob\n",
        "import random\n",
        "import os\n",
        "import pandas as pd\n"
      ],
      "execution_count": 4,
      "outputs": []
    },
    {
      "cell_type": "code",
      "metadata": {
        "id": "5bKTyENCzO0n",
        "outputId": "11370a4c-697d-484b-c798-80afd7de54b9",
        "colab": {
          "base_uri": "https://localhost:8080/",
          "height": 112
        }
      },
      "source": [
        "df = pd.read_csv('/content/drive/My Drive/reviews.csv')\n",
        "df.head(2)"
      ],
      "execution_count": 5,
      "outputs": [
        {
          "output_type": "execute_result",
          "data": {
            "text/html": [
              "<div>\n",
              "<style scoped>\n",
              "    .dataframe tbody tr th:only-of-type {\n",
              "        vertical-align: middle;\n",
              "    }\n",
              "\n",
              "    .dataframe tbody tr th {\n",
              "        vertical-align: top;\n",
              "    }\n",
              "\n",
              "    .dataframe thead th {\n",
              "        text-align: right;\n",
              "    }\n",
              "</style>\n",
              "<table border=\"1\" class=\"dataframe\">\n",
              "  <thead>\n",
              "    <tr style=\"text-align: right;\">\n",
              "      <th></th>\n",
              "      <th>review</th>\n",
              "      <th>rating</th>\n",
              "    </tr>\n",
              "  </thead>\n",
              "  <tbody>\n",
              "    <tr>\n",
              "      <th>0</th>\n",
              "      <td>\"Free Enterprise\" is so giddily goofy in its c...</td>\n",
              "      <td>8.0</td>\n",
              "    </tr>\n",
              "    <tr>\n",
              "      <th>1</th>\n",
              "      <td>I really enjoyed this film. Even though I had ...</td>\n",
              "      <td>8.0</td>\n",
              "    </tr>\n",
              "  </tbody>\n",
              "</table>\n",
              "</div>"
            ],
            "text/plain": [
              "                                              review  rating\n",
              "0  \"Free Enterprise\" is so giddily goofy in its c...     8.0\n",
              "1  I really enjoyed this film. Even though I had ...     8.0"
            ]
          },
          "metadata": {
            "tags": []
          },
          "execution_count": 5
        }
      ]
    },
    {
      "cell_type": "code",
      "metadata": {
        "id": "Bqm5fwVT35QZ",
        "outputId": "e8527af5-2d03-41bc-a8cc-10641796190f",
        "colab": {
          "base_uri": "https://localhost:8080/"
        }
      },
      "source": [
        "df.rating.unique()"
      ],
      "execution_count": 6,
      "outputs": [
        {
          "output_type": "execute_result",
          "data": {
            "text/plain": [
              "array([ 8. ,  9. , 10. ,  1. ,  3. ,  7. ,  5. ,  6. ,  2. ,  4. ,  4.5,\n",
              "        9.5,  2.5,  6.5,  8.5,  7.5,  5.5,  3.5])"
            ]
          },
          "metadata": {
            "tags": []
          },
          "execution_count": 6
        }
      ]
    },
    {
      "cell_type": "code",
      "metadata": {
        "id": "7vfuHOku3AuQ"
      },
      "source": [
        "df.rating = df.rating.astype(int)"
      ],
      "execution_count": 7,
      "outputs": []
    },
    {
      "cell_type": "code",
      "metadata": {
        "id": "5hwdguF70N-W",
        "outputId": "840afe4d-e2ea-4757-a618-d3c7c459d3d5",
        "colab": {
          "base_uri": "https://localhost:8080/",
          "height": 112
        }
      },
      "source": [
        "df['rating'] = np.where((df['rating'] >=6),1,df['rating'])\n",
        "df['rating'] = np.where((df['rating'] >1),0,df['rating'])\n",
        "df.head(2)"
      ],
      "execution_count": 8,
      "outputs": [
        {
          "output_type": "execute_result",
          "data": {
            "text/html": [
              "<div>\n",
              "<style scoped>\n",
              "    .dataframe tbody tr th:only-of-type {\n",
              "        vertical-align: middle;\n",
              "    }\n",
              "\n",
              "    .dataframe tbody tr th {\n",
              "        vertical-align: top;\n",
              "    }\n",
              "\n",
              "    .dataframe thead th {\n",
              "        text-align: right;\n",
              "    }\n",
              "</style>\n",
              "<table border=\"1\" class=\"dataframe\">\n",
              "  <thead>\n",
              "    <tr style=\"text-align: right;\">\n",
              "      <th></th>\n",
              "      <th>review</th>\n",
              "      <th>rating</th>\n",
              "    </tr>\n",
              "  </thead>\n",
              "  <tbody>\n",
              "    <tr>\n",
              "      <th>0</th>\n",
              "      <td>\"Free Enterprise\" is so giddily goofy in its c...</td>\n",
              "      <td>1</td>\n",
              "    </tr>\n",
              "    <tr>\n",
              "      <th>1</th>\n",
              "      <td>I really enjoyed this film. Even though I had ...</td>\n",
              "      <td>1</td>\n",
              "    </tr>\n",
              "  </tbody>\n",
              "</table>\n",
              "</div>"
            ],
            "text/plain": [
              "                                              review  rating\n",
              "0  \"Free Enterprise\" is so giddily goofy in its c...       1\n",
              "1  I really enjoyed this film. Even though I had ...       1"
            ]
          },
          "metadata": {
            "tags": []
          },
          "execution_count": 8
        }
      ]
    },
    {
      "cell_type": "code",
      "metadata": {
        "id": "bYzfiXBl4B-x",
        "outputId": "10193434-603f-43bc-d561-876dc7d33fcd",
        "colab": {
          "base_uri": "https://localhost:8080/"
        }
      },
      "source": [
        "df.rating.unique()"
      ],
      "execution_count": 9,
      "outputs": [
        {
          "output_type": "execute_result",
          "data": {
            "text/plain": [
              "array([1, 0])"
            ]
          },
          "metadata": {
            "tags": []
          },
          "execution_count": 9
        }
      ]
    },
    {
      "cell_type": "code",
      "metadata": {
        "id": "powS2D5KzVSi"
      },
      "source": [
        "reviews = df['review']\n",
        "labels = df['rating']"
      ],
      "execution_count": 10,
      "outputs": []
    },
    {
      "cell_type": "code",
      "metadata": {
        "id": "bI8BJ7Ea4NGI"
      },
      "source": [
        ""
      ],
      "execution_count": 10,
      "outputs": []
    },
    {
      "cell_type": "code",
      "metadata": {
        "id": "7_g4Pb-YvhBo"
      },
      "source": [
        "def load_imdb_data(reviews,labels,num_words, sequence_length, test_size=0.25, oov_token=None):\n",
        "   \n",
        "    # tokenize the dataset corpus, delete uncommon words such as names, etc.\n",
        "    tokenizer = Tokenizer(num_words=num_words, oov_token=oov_token)\n",
        "    tokenizer.fit_on_texts(reviews)\n",
        "    X = tokenizer.texts_to_sequences(reviews)\n",
        "    X, y = np.array(X), np.array(labels)\n",
        "    # pad sequences with 0's\n",
        "    X = pad_sequences(X, maxlen=sequence_length)\n",
        "\n",
        "    # convert labels to one-hot encoded\n",
        "    y = to_categorical(y)\n",
        "    # split data to training and testing sets\n",
        "    X_train, X_test, y_train, y_test = train_test_split(X, y, test_size=test_size, random_state=1)\n",
        "    data = {}\n",
        "    data[\"X_train\"] = X_train\n",
        "    data[\"X_test\"]= X_test\n",
        "    data[\"y_train\"] = y_train\n",
        "    data[\"y_test\"] = y_test\n",
        "    data[\"tokenizer\"] = tokenizer\n",
        "    data[\"int2label\"] =  {0: \"negative\", 1: \"positive\"}\n",
        "    data[\"label2int\"] = {\"negative\": 0, \"positive\": 1}\n",
        "    return data"
      ],
      "execution_count": 11,
      "outputs": []
    },
    {
      "cell_type": "code",
      "metadata": {
        "id": "SOGHKbXm5ik1"
      },
      "source": [
        "def get_embedding_vectors(word_index, embedding_size=100):\n",
        "    embedding_matrix = np.zeros((len(word_index) + 1, embedding_size))\n",
        "    with open(f\"/content/drive/My Drive/glove.6B.{embedding_size}d.txt\", encoding=\"utf8\") as f:\n",
        "        for line in tqdm(f, \"Reading GloVe\"):\n",
        "            values = line.split()\n",
        "            # get the word as the first word in the line\n",
        "            word = values[0]\n",
        "            if word in word_index:\n",
        "                idx = word_index[word]\n",
        "                # get the vectors as the remaining values in the line\n",
        "                embedding_matrix[idx] = np.array(values[1:], dtype=\"float32\")\n",
        "    return embedding_matrix"
      ],
      "execution_count": 12,
      "outputs": []
    },
    {
      "cell_type": "code",
      "metadata": {
        "id": "XvWqf0YB6AXk"
      },
      "source": [
        "def create_model(word_index, units=128, n_layers=1, cell=LSTM, bidirectional=False,\n",
        "                embedding_size=100, sequence_length=100, dropout=0.3, \n",
        "                loss=\"categorical_crossentropy\", optimizer=\"adam\", \n",
        "                output_length=2):\n",
        "    \"\"\"Constructs a RNN model given its parameters\"\"\"\n",
        "    embedding_matrix = get_embedding_vectors(word_index, embedding_size)\n",
        "    model = Sequential()\n",
        "    # add the embedding layer\n",
        "    model.add(Embedding(len(word_index) + 1,\n",
        "              embedding_size,\n",
        "              weights=[embedding_matrix],\n",
        "              trainable=False,\n",
        "              input_length=sequence_length))\n",
        "    for i in range(n_layers):\n",
        "        if i == n_layers - 1:\n",
        "            # last layer\n",
        "            if bidirectional:\n",
        "                model.add(Bidirectional(cell(units, return_sequences=False)))\n",
        "            else:\n",
        "                model.add(cell(units, return_sequences=False))\n",
        "        else:\n",
        "            # first layer or hidden layers\n",
        "            if bidirectional:\n",
        "                model.add(Bidirectional(cell(units, return_sequences=True)))\n",
        "            else:\n",
        "                model.add(cell(units, return_sequences=True))\n",
        "        model.add(Dropout(dropout))\n",
        "    model.add(Dense(output_length, activation=\"softmax\"))\n",
        "    # compile the model\n",
        "    model.compile(optimizer=optimizer, loss=loss, metrics=[\"accuracy\"])\n",
        "    return model"
      ],
      "execution_count": 13,
      "outputs": []
    },
    {
      "cell_type": "code",
      "metadata": {
        "id": "e_z_6cEU6jh8"
      },
      "source": [
        "# max number of words in each sentence\n",
        "SEQUENCE_LENGTH = 300\n",
        "# N-Dimensional GloVe embedding vectors\n",
        "EMBEDDING_SIZE = 100\n",
        "# number of words to use, discarding the rest\n",
        "N_WORDS = 10000\n",
        "# out of vocabulary token\n",
        "OOV_TOKEN = None\n",
        "# 30% testing set, 70% training set\n",
        "TEST_SIZE = 0.3\n",
        "# number of CELL layers\n",
        "N_LAYERS = 1\n",
        "# the RNN cell to use, LSTM in this case\n",
        "RNN_CELL = LSTM\n",
        "# whether it's a bidirectional RNN\n",
        "IS_BIDIRECTIONAL = False\n",
        "# number of units (RNN_CELL ,nodes) in each layer\n",
        "UNITS = 128\n",
        "# dropout rate\n",
        "DROPOUT = 0.4\n",
        "### Training parameters\n",
        "LOSS = \"categorical_crossentropy\"\n",
        "OPTIMIZER = \"adam\"\n",
        "BATCH_SIZE = 32\n",
        "EPOCHS = 20\n",
        "\n",
        "def get_model_name(dataset_name):\n",
        "    # construct the unique model name\n",
        "    model_name = f\"{dataset_name}-{RNN_CELL.__name__}-seq-{SEQUENCE_LENGTH}-em-{EMBEDDING_SIZE}-w-{N_WORDS}-layers-{N_LAYERS}-units-{UNITS}-opt-{OPTIMIZER}-BS-{BATCH_SIZE}-d-{DROPOUT}\"\n",
        "    if IS_BIDIRECTIONAL:\n",
        "        # add 'bid' str if bidirectional\n",
        "        model_name = \"bid-\" + model_name\n",
        "    if OOV_TOKEN:\n",
        "        # add 'oov' str if OOV token is specified\n",
        "        model_name += \"-oov\"\n",
        "    return model_name"
      ],
      "execution_count": 14,
      "outputs": []
    },
    {
      "cell_type": "code",
      "metadata": {
        "id": "onNqvzOo6tWb",
        "outputId": "b7854bbe-ddec-400e-a635-84038688207b",
        "colab": {
          "base_uri": "https://localhost:8080/"
        }
      },
      "source": [
        "# create these folders if they does not exist\n",
        "if not os.path.isdir(\"results\"):\n",
        "    os.mkdir(\"results\")\n",
        "if not os.path.isdir(\"logs\"):\n",
        "    os.mkdir(\"logs\")\n",
        "if not os.path.isdir(\"data\"):\n",
        "    os.mkdir(\"data\")\n",
        "# dataset name, IMDB movie reviews dataset\n",
        "dataset_name = \"imdb\"\n",
        "# get the unique model name based on hyper parameters on parameters.py\n",
        "model_name = get_model_name(dataset_name)\n",
        "# load the data\n",
        "data = load_imdb_data(reviews,labels,N_WORDS, SEQUENCE_LENGTH, TEST_SIZE, oov_token=OOV_TOKEN)\n",
        "# construct the model\n",
        "model = create_model(data[\"tokenizer\"].word_index, units=UNITS, n_layers=N_LAYERS, \n",
        "                    cell=RNN_CELL, bidirectional=IS_BIDIRECTIONAL, embedding_size=EMBEDDING_SIZE, \n",
        "                    sequence_length=SEQUENCE_LENGTH, dropout=DROPOUT, \n",
        "                    loss=LOSS, optimizer=OPTIMIZER, output_length=data[\"y_train\"][0].shape[0])\n",
        "model.summary()\n",
        "# using tensorboard on 'logs' folder\n",
        "tensorboard = TensorBoard(log_dir=os.path.join(\"logs\", model_name))\n",
        "# start training\n",
        "history = model.fit(data[\"X_train\"], data[\"y_train\"],\n",
        "                    batch_size=BATCH_SIZE,\n",
        "                    epochs=EPOCHS,\n",
        "                    validation_data=(data[\"X_test\"], data[\"y_test\"]),\n",
        "                    callbacks=[tensorboard],\n",
        "                    verbose=1)\n",
        "# save the resulting model into 'results' folder\n",
        "model.save(os.path.join(\"results\", model_name) + \".h5\")"
      ],
      "execution_count": null,
      "outputs": [
        {
          "output_type": "stream",
          "text": [
            "Reading GloVe: 400000it [00:08, 48784.64it/s]\n"
          ],
          "name": "stderr"
        },
        {
          "output_type": "stream",
          "text": [
            "Model: \"sequential\"\n",
            "_________________________________________________________________\n",
            "Layer (type)                 Output Shape              Param #   \n",
            "=================================================================\n",
            "embedding (Embedding)        (None, 300, 100)          82911900  \n",
            "_________________________________________________________________\n",
            "lstm (LSTM)                  (None, 128)               117248    \n",
            "_________________________________________________________________\n",
            "dropout (Dropout)            (None, 128)               0         \n",
            "_________________________________________________________________\n",
            "dense (Dense)                (None, 2)                 258       \n",
            "=================================================================\n",
            "Total params: 83,029,406\n",
            "Trainable params: 117,506\n",
            "Non-trainable params: 82,911,900\n",
            "_________________________________________________________________\n",
            "Epoch 1/20\n",
            "    1/42761 [..............................] - ETA: 2:57 - loss: 0.6457 - accuracy: 0.6562WARNING:tensorflow:From /usr/local/lib/python3.6/dist-packages/tensorflow/python/ops/summary_ops_v2.py:1277: stop (from tensorflow.python.eager.profiler) is deprecated and will be removed after 2020-07-01.\n",
            "Instructions for updating:\n",
            "use `tf.profiler.experimental.stop` instead.\n",
            "    2/42761 [..............................] - ETA: 53:05 - loss: 0.6078 - accuracy: 0.7031WARNING:tensorflow:Callbacks method `on_train_batch_end` is slow compared to the batch time (batch time: 0.0368s vs `on_train_batch_end` time: 0.1076s). Check your callbacks.\n",
            "42761/42761 [==============================] - 910s 21ms/step - loss: 0.3340 - accuracy: 0.8436 - val_loss: 0.3072 - val_accuracy: 0.8548\n",
            "Epoch 2/20\n",
            "42761/42761 [==============================] - 908s 21ms/step - loss: 0.3050 - accuracy: 0.8567 - val_loss: 0.2986 - val_accuracy: 0.8591\n",
            "Epoch 3/20\n",
            "36643/42761 [========================>.....] - ETA: 1:47 - loss: 0.2963 - accuracy: 0.8610"
          ],
          "name": "stdout"
        }
      ]
    },
    {
      "cell_type": "code",
      "metadata": {
        "id": "71ZWoLPt60Ms"
      },
      "source": [
        "# history = model.fit(data[\"X_train\"], data[\"y_train\"],\n",
        "#                     batch_size=BATCH_SIZE,\n",
        "#                     epochs=EPOCHS,\n",
        "#                     validation_data=(data[\"X_test\"], data[\"y_test\"]),\n",
        "#                     callbacks=[tensorboard],\n",
        "#                     verbose=1)\n",
        "# # save the resulting model into 'results' folder\n",
        "# model.save(os.path.join(\"results\", model_name) + \".h5\")"
      ],
      "execution_count": null,
      "outputs": []
    }
  ]
}