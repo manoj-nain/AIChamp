{
  "nbformat": 4,
  "nbformat_minor": 0,
  "metadata": {
    "colab": {
      "name": "Cifar10.ipynb",
      "provenance": [],
      "collapsed_sections": [
        "Qt9V8Gk0un2w"
      ],
      "authorship_tag": "ABX9TyNP2JDp563gxFIrxM7TPPzt",
      "include_colab_link": true
    },
    "kernelspec": {
      "name": "python3",
      "display_name": "Python 3"
    }
  },
  "cells": [
    {
      "cell_type": "markdown",
      "metadata": {
        "id": "view-in-github",
        "colab_type": "text"
      },
      "source": [
        "<a href=\"https://colab.research.google.com/github/manoj-nain/AIChamp/blob/master/Cifar10.ipynb\" target=\"_parent\"><img src=\"https://colab.research.google.com/assets/colab-badge.svg\" alt=\"Open In Colab\"/></a>"
      ]
    },
    {
      "cell_type": "code",
      "metadata": {
        "id": "ToQu9D032aX2",
        "outputId": "fa3e02ad-8a2c-4393-d1d5-398a7390a567",
        "colab": {
          "base_uri": "https://localhost:8080/",
          "height": 34
        }
      },
      "source": [
        "from google.colab import drive\n",
        "drive.mount('/content/drive')"
      ],
      "execution_count": null,
      "outputs": [
        {
          "output_type": "stream",
          "text": [
            "Mounted at /content/drive\n"
          ],
          "name": "stdout"
        }
      ]
    },
    {
      "cell_type": "code",
      "metadata": {
        "id": "KbdcH2Wz2pLo"
      },
      "source": [
        "import tensorflow as tf\n",
        "from tensorflow import keras"
      ],
      "execution_count": null,
      "outputs": []
    },
    {
      "cell_type": "code",
      "metadata": {
        "id": "FK-z7nUX4Ngu"
      },
      "source": [
        "import matplotlib.pyplot as plt\n",
        "import numpy as np\n",
        "import pandas as pd"
      ],
      "execution_count": null,
      "outputs": []
    },
    {
      "cell_type": "code",
      "metadata": {
        "id": "VaTK4y0Q27aX"
      },
      "source": [
        "data = tf.keras.datasets.cifar10"
      ],
      "execution_count": null,
      "outputs": []
    },
    {
      "cell_type": "code",
      "metadata": {
        "id": "ozNzoTNE3Mew"
      },
      "source": [
        "(X_train_full, y_train_full), (X_test, y_test) = data.load_data()"
      ],
      "execution_count": null,
      "outputs": []
    },
    {
      "cell_type": "code",
      "metadata": {
        "id": "84ao1Ejy3cmK",
        "outputId": "ef513b2e-1af0-4119-eeaf-5fb69c839a0c",
        "colab": {
          "base_uri": "https://localhost:8080/",
          "height": 34
        }
      },
      "source": [
        "X_train_full.shape"
      ],
      "execution_count": null,
      "outputs": [
        {
          "output_type": "execute_result",
          "data": {
            "text/plain": [
              "(50000, 32, 32, 3)"
            ]
          },
          "metadata": {
            "tags": []
          },
          "execution_count": 6
        }
      ]
    },
    {
      "cell_type": "code",
      "metadata": {
        "id": "O_DomMpC3kWX",
        "outputId": "f490412c-0349-499c-eefa-77d8f79bdcb0",
        "colab": {
          "base_uri": "https://localhost:8080/",
          "height": 34
        }
      },
      "source": [
        "y_train_full.shape"
      ],
      "execution_count": null,
      "outputs": [
        {
          "output_type": "execute_result",
          "data": {
            "text/plain": [
              "(50000, 1)"
            ]
          },
          "metadata": {
            "tags": []
          },
          "execution_count": 7
        }
      ]
    },
    {
      "cell_type": "code",
      "metadata": {
        "id": "obKKXyJY3u5F",
        "outputId": "6c1faf88-aaea-4bd2-dcfe-c1a68f4588dd",
        "colab": {
          "base_uri": "https://localhost:8080/",
          "height": 850
        }
      },
      "source": [
        "print(X_train_full[0])"
      ],
      "execution_count": null,
      "outputs": [
        {
          "output_type": "stream",
          "text": [
            "[[[ 59  62  63]\n",
            "  [ 43  46  45]\n",
            "  [ 50  48  43]\n",
            "  ...\n",
            "  [158 132 108]\n",
            "  [152 125 102]\n",
            "  [148 124 103]]\n",
            "\n",
            " [[ 16  20  20]\n",
            "  [  0   0   0]\n",
            "  [ 18   8   0]\n",
            "  ...\n",
            "  [123  88  55]\n",
            "  [119  83  50]\n",
            "  [122  87  57]]\n",
            "\n",
            " [[ 25  24  21]\n",
            "  [ 16   7   0]\n",
            "  [ 49  27   8]\n",
            "  ...\n",
            "  [118  84  50]\n",
            "  [120  84  50]\n",
            "  [109  73  42]]\n",
            "\n",
            " ...\n",
            "\n",
            " [[208 170  96]\n",
            "  [201 153  34]\n",
            "  [198 161  26]\n",
            "  ...\n",
            "  [160 133  70]\n",
            "  [ 56  31   7]\n",
            "  [ 53  34  20]]\n",
            "\n",
            " [[180 139  96]\n",
            "  [173 123  42]\n",
            "  [186 144  30]\n",
            "  ...\n",
            "  [184 148  94]\n",
            "  [ 97  62  34]\n",
            "  [ 83  53  34]]\n",
            "\n",
            " [[177 144 116]\n",
            "  [168 129  94]\n",
            "  [179 142  87]\n",
            "  ...\n",
            "  [216 184 140]\n",
            "  [151 118  84]\n",
            "  [123  92  72]]]\n"
          ],
          "name": "stdout"
        }
      ]
    },
    {
      "cell_type": "code",
      "metadata": {
        "id": "1NS66hrX30h_",
        "outputId": "aebedfd2-52be-45b3-f84e-ea094e611c0a",
        "colab": {
          "base_uri": "https://localhost:8080/",
          "height": 34
        }
      },
      "source": [
        "print(y_train_full[0])"
      ],
      "execution_count": null,
      "outputs": [
        {
          "output_type": "stream",
          "text": [
            "[6]\n"
          ],
          "name": "stdout"
        }
      ]
    },
    {
      "cell_type": "code",
      "metadata": {
        "id": "8Iw0gxuR4DPu",
        "outputId": "9bffe776-c3ad-4b66-fd4a-52abb23d7013",
        "colab": {
          "base_uri": "https://localhost:8080/",
          "height": 266
        }
      },
      "source": [
        "plt.figure()\n",
        "plt.imshow(X_train_full[2])\n",
        "plt.colorbar()\n",
        "plt.grid(False)\n",
        "\n",
        "plt.show()"
      ],
      "execution_count": null,
      "outputs": [
        {
          "output_type": "display_data",
          "data": {
            "image/png": "[encoded data removed]",
            "text/plain": [
              "<Figure size 432x288 with 2 Axes>"
            ]
          },
          "metadata": {
            "tags": [],
            "needs_background": "light"
          }
        }
      ]
    },
    {
      "cell_type": "code",
      "metadata": {
        "id": "nZ1AdW6o4RYP",
        "outputId": "d1ef9b19-e267-4e0f-9c0e-f689d3d41d54",
        "colab": {
          "base_uri": "https://localhost:8080/",
          "height": 192
        }
      },
      "source": [
        "for i in range(6):\n",
        "\t# define subplot\n",
        "\tplt.subplot(330 + 1 + i)\n",
        "\t# plot raw pixel data\n",
        "\tplt.imshow(X_train_full[i])\n",
        "plt.show()"
      ],
      "execution_count": null,
      "outputs": [
        {
          "output_type": "display_data",
          "data": {
            "image/png": "[encoded data removed]",
            "text/plain": [
              "<Figure size 432x288 with 6 Axes>"
            ]
          },
          "metadata": {
            "tags": [],
            "needs_background": "light"
          }
        }
      ]
    },
    {
      "cell_type": "markdown",
      "metadata": {
        "id": "Qt9V8Gk0un2w"
      },
      "source": [
        "# Image Whitening"
      ]
    },
    {
      "cell_type": "code",
      "metadata": {
        "id": "CGVsyqGRITy4"
      },
      "source": [
        "data = tf.keras.datasets.cifar10"
      ],
      "execution_count": null,
      "outputs": []
    },
    {
      "cell_type": "code",
      "metadata": {
        "id": "tJ_0I4jjIVZv"
      },
      "source": [
        "(X_train_full, y_train_full), (X_test, y_test) = data.load_data()"
      ],
      "execution_count": null,
      "outputs": []
    },
    {
      "cell_type": "code",
      "metadata": {
        "id": "M0JlB2UFuw_t",
        "outputId": "d7c3a090-183c-4367-952b-324ae40938eb",
        "colab": {
          "base_uri": "https://localhost:8080/",
          "height": 34
        }
      },
      "source": [
        "\n",
        "X_white = X_train_full.reshape(X_train_full.shape[0], X_train_full.shape[1]*X_train_full.shape[2]*X_train_full.shape[3])\n",
        "print(X_white.shape)"
      ],
      "execution_count": null,
      "outputs": [
        {
          "output_type": "stream",
          "text": [
            "(50000, 3072)\n"
          ],
          "name": "stdout"
        }
      ]
    },
    {
      "cell_type": "code",
      "metadata": {
        "id": "r1yuQdLEvJ--"
      },
      "source": [
        "def plotImage(X):\n",
        "    plt.figure(figsize=(1.5, 1.5))\n",
        "    plt.imshow(X.reshape(32,32,3))\n",
        "    plt.grid(None)\n",
        "    plt.show()\n",
        "    plt.close()"
      ],
      "execution_count": null,
      "outputs": []
    },
    {
      "cell_type": "code",
      "metadata": {
        "id": "KbrBYX1EvXFm",
        "outputId": "5a3c2e0b-cce4-4399-9a7b-d65e2fa5ef5f",
        "colab": {
          "base_uri": "https://localhost:8080/",
          "height": 132
        }
      },
      "source": [
        "plotImage(X_white[12, :])"
      ],
      "execution_count": null,
      "outputs": [
        {
          "output_type": "display_data",
          "data": {
            "image/png": "[encoded data removed]",
            "text/plain": [
              "<Figure size 108x108 with 1 Axes>"
            ]
          },
          "metadata": {
            "tags": [],
            "needs_background": "light"
          }
        }
      ]
    },
    {
      "cell_type": "code",
      "metadata": {
        "id": "CqrVtBUSveXx",
        "outputId": "2783af57-8122-44bc-a498-3d8d4673633a",
        "colab": {
          "base_uri": "https://localhost:8080/",
          "height": 51
        }
      },
      "source": [
        "X_norm = X_white/ 255.\n",
        "print('X.min()', X_norm.min())\n",
        "print('X.max()', X_norm.max())"
      ],
      "execution_count": null,
      "outputs": [
        {
          "output_type": "stream",
          "text": [
            "X.min() 0.0\n",
            "X.max() 1.0\n"
          ],
          "name": "stdout"
        }
      ]
    },
    {
      "cell_type": "code",
      "metadata": {
        "id": "Xjw-J4DdvmOk",
        "outputId": "e4c3fa3b-e642-49f2-ee02-d135af706c23",
        "colab": {
          "base_uri": "https://localhost:8080/",
          "height": 34
        }
      },
      "source": [
        "X_norm.mean(axis=0).shape"
      ],
      "execution_count": null,
      "outputs": [
        {
          "output_type": "execute_result",
          "data": {
            "text/plain": [
              "(3072,)"
            ]
          },
          "metadata": {
            "tags": []
          },
          "execution_count": 62
        }
      ]
    },
    {
      "cell_type": "code",
      "metadata": {
        "id": "4GfBTRKDvrZi",
        "outputId": "3e4ad248-9b14-49ec-8382-6d6991d6c312",
        "colab": {
          "base_uri": "https://localhost:8080/",
          "height": 51
        }
      },
      "source": [
        "X_norm.mean(axis=0)"
      ],
      "execution_count": null,
      "outputs": [
        {
          "output_type": "execute_result",
          "data": {
            "text/plain": [
              "array([0.51259114, 0.53355349, 0.51981882, ..., 0.49662384, 0.49353059,\n",
              "       0.44855631])"
            ]
          },
          "metadata": {
            "tags": []
          },
          "execution_count": 63
        }
      ]
    },
    {
      "cell_type": "code",
      "metadata": {
        "id": "QoeopGY4vxiX"
      },
      "source": [
        "X_norm = X_norm - X_norm.mean(axis=0)"
      ],
      "execution_count": null,
      "outputs": []
    },
    {
      "cell_type": "code",
      "metadata": {
        "id": "OW8ZWq3yv2vW"
      },
      "source": [
        "cov = np.cov(X_norm, rowvar=False)"
      ],
      "execution_count": null,
      "outputs": []
    },
    {
      "cell_type": "code",
      "metadata": {
        "id": "e4Hi7fGhv81p"
      },
      "source": [
        "U,S,V = np.linalg.svd(cov)"
      ],
      "execution_count": null,
      "outputs": []
    },
    {
      "cell_type": "code",
      "metadata": {
        "id": "yF_GvTnMwA1Y"
      },
      "source": [
        "epsilon = 0.1\n",
        "X_ZCA = U.dot(np.diag(1.0/np.sqrt(S + epsilon))).dot(U.T).dot(X_norm.T).T"
      ],
      "execution_count": null,
      "outputs": []
    },
    {
      "cell_type": "code",
      "metadata": {
        "id": "DNOMQOA-wH8v",
        "outputId": "eb68fd0c-0c21-478f-bb24-b5424dffd771",
        "colab": {
          "base_uri": "https://localhost:8080/",
          "height": 51
        }
      },
      "source": [
        "X_ZCA_rescaled = (X_ZCA - X_ZCA.min()) / (X_ZCA.max() - X_ZCA.min())\n",
        "print('min:', X_ZCA_rescaled.min())\n",
        "print('max:', X_ZCA_rescaled.max())"
      ],
      "execution_count": null,
      "outputs": [
        {
          "output_type": "stream",
          "text": [
            "min: 0.0\n",
            "max: 1.0\n"
          ],
          "name": "stdout"
        }
      ]
    },
    {
      "cell_type": "code",
      "metadata": {
        "id": "_grFNmj0wOCx",
        "outputId": "f7b56f32-eaef-43ab-bc60-3d2c921b097a",
        "colab": {
          "base_uri": "https://localhost:8080/",
          "height": 247
        }
      },
      "source": [
        "plotImage(X_white[12, :])\n",
        "plotImage(X_ZCA_rescaled[12, :])"
      ],
      "execution_count": null,
      "outputs": [
        {
          "output_type": "display_data",
          "data": {
            "image/png": "[encoded data removed]",
            "text/plain": [
              "<Figure size 108x108 with 1 Axes>"
            ]
          },
          "metadata": {
            "tags": [],
            "needs_background": "light"
          }
        },
        {
          "output_type": "display_data",
          "data": {
            "image/png": "[encoded data removed]",
            "text/plain": [
              "<Figure size 108x108 with 1 Axes>"
            ]
          },
          "metadata": {
            "tags": [],
            "needs_background": "light"
          }
        }
      ]
    },
    {
      "cell_type": "code",
      "metadata": {
        "id": "aJGgH-WbwZv2",
        "outputId": "f1197281-6025-4ca5-cabc-7349b564271f",
        "colab": {
          "base_uri": "https://localhost:8080/",
          "height": 34
        }
      },
      "source": [
        "X_ZCA_rescaled.shape"
      ],
      "execution_count": null,
      "outputs": [
        {
          "output_type": "execute_result",
          "data": {
            "text/plain": [
              "(50000, 3072)"
            ]
          },
          "metadata": {
            "tags": []
          },
          "execution_count": 70
        }
      ]
    },
    {
      "cell_type": "code",
      "metadata": {
        "id": "PTonGdbrIjnr"
      },
      "source": [
        "X_valid, X_train = X_ZCA_rescaled[:5000], X_ZCA_rescaled[5000:]\n",
        "y_valid, y_train = y_train_full[:5000], y_train_full[5000:]"
      ],
      "execution_count": null,
      "outputs": []
    },
    {
      "cell_type": "code",
      "metadata": {
        "id": "Io2idEzWI0nd"
      },
      "source": [
        "model = keras.models.Sequential()\n",
        "#model.add(keras.layers.Flatten(input_shape=[32, 32, 3]))\n",
        "model.add(keras.layers.Dense(800, activation=\"relu\"))\n",
        "model.add(Dropout(0.2))\n",
        "model.add(keras.layers.Dense(400, activation=\"relu\"))\n",
        "model.add(keras.layers.Dense(100, activation=\"relu\"))\n",
        "model.add(keras.layers.Dense(10, activation=\"softmax\"))"
      ],
      "execution_count": null,
      "outputs": []
    },
    {
      "cell_type": "code",
      "metadata": {
        "id": "kMI4X3QlI7t3"
      },
      "source": [
        "model.compile(loss=\"sparse_categorical_crossentropy\",\n",
        "optimizer=\"adam\",\n",
        "metrics=[\"accuracy\"])"
      ],
      "execution_count": null,
      "outputs": []
    },
    {
      "cell_type": "code",
      "metadata": {
        "id": "Pg86rr0YJEdM",
        "outputId": "f736c9f5-7b96-49ae-c00d-6bc51b4cb9ab",
        "colab": {
          "base_uri": "https://localhost:8080/",
          "height": 1000
        }
      },
      "source": [
        "history5 = model.fit(X_train, y_train, epochs=30,validation_data=(X_valid, y_valid))"
      ],
      "execution_count": null,
      "outputs": [
        {
          "output_type": "stream",
          "text": [
            "Epoch 1/30\n",
            "1407/1407 [==============================] - 30s 22ms/step - loss: 2.3115 - accuracy: 0.0980 - val_loss: 2.3026 - val_accuracy: 0.0906\n",
            "Epoch 2/30\n",
            "1407/1407 [==============================] - 30s 21ms/step - loss: 2.3029 - accuracy: 0.0989 - val_loss: 2.3028 - val_accuracy: 0.0996\n",
            "Epoch 3/30\n",
            "1407/1407 [==============================] - 30s 21ms/step - loss: 2.3028 - accuracy: 0.0987 - val_loss: 2.3028 - val_accuracy: 0.1038\n",
            "Epoch 4/30\n",
            "1407/1407 [==============================] - 30s 21ms/step - loss: 2.3028 - accuracy: 0.0981 - val_loss: 2.3027 - val_accuracy: 0.0972\n",
            "Epoch 5/30\n",
            "1407/1407 [==============================] - 30s 21ms/step - loss: 2.3036 - accuracy: 0.1000 - val_loss: 2.3029 - val_accuracy: 0.0920\n",
            "Epoch 6/30\n",
            "1407/1407 [==============================] - 30s 22ms/step - loss: 2.3028 - accuracy: 0.0976 - val_loss: 2.3028 - val_accuracy: 0.0996\n",
            "Epoch 7/30\n",
            "1407/1407 [==============================] - 30s 21ms/step - loss: 2.3028 - accuracy: 0.0980 - val_loss: 2.3031 - val_accuracy: 0.0920\n",
            "Epoch 8/30\n",
            "1407/1407 [==============================] - 30s 21ms/step - loss: 2.3028 - accuracy: 0.0991 - val_loss: 2.3030 - val_accuracy: 0.0972\n",
            "Epoch 9/30\n",
            "1407/1407 [==============================] - 30s 21ms/step - loss: 2.3028 - accuracy: 0.0995 - val_loss: 2.3026 - val_accuracy: 0.1038\n",
            "Epoch 10/30\n",
            "1407/1407 [==============================] - 30s 21ms/step - loss: 2.3028 - accuracy: 0.0989 - val_loss: 2.3028 - val_accuracy: 0.0996\n",
            "Epoch 11/30\n",
            "1407/1407 [==============================] - 30s 21ms/step - loss: 2.3029 - accuracy: 0.0973 - val_loss: 2.3028 - val_accuracy: 0.0976\n",
            "Epoch 12/30\n",
            "1407/1407 [==============================] - 30s 21ms/step - loss: 2.3028 - accuracy: 0.0979 - val_loss: 2.3028 - val_accuracy: 0.0972\n",
            "Epoch 13/30\n",
            "1407/1407 [==============================] - 30s 21ms/step - loss: 2.3028 - accuracy: 0.0999 - val_loss: 2.3029 - val_accuracy: 0.0972\n",
            "Epoch 14/30\n",
            "1407/1407 [==============================] - 30s 21ms/step - loss: 2.3028 - accuracy: 0.0997 - val_loss: 2.3027 - val_accuracy: 0.0920\n",
            "Epoch 15/30\n",
            "1407/1407 [==============================] - 30s 21ms/step - loss: 2.3028 - accuracy: 0.0986 - val_loss: 2.3027 - val_accuracy: 0.1038\n",
            "Epoch 16/30\n",
            "1407/1407 [==============================] - 30s 21ms/step - loss: 2.3027 - accuracy: 0.0999 - val_loss: 2.3031 - val_accuracy: 0.0920\n",
            "Epoch 17/30\n",
            "1407/1407 [==============================] - 30s 21ms/step - loss: 2.3028 - accuracy: 0.0991 - val_loss: 2.3028 - val_accuracy: 0.0996\n",
            "Epoch 18/30\n",
            "1407/1407 [==============================] - 30s 22ms/step - loss: 2.3028 - accuracy: 0.0985 - val_loss: 2.3026 - val_accuracy: 0.1038\n",
            "Epoch 19/30\n",
            "1407/1407 [==============================] - 30s 21ms/step - loss: 2.3028 - accuracy: 0.0962 - val_loss: 2.3029 - val_accuracy: 0.0996\n",
            "Epoch 20/30\n",
            "1407/1407 [==============================] - 30s 22ms/step - loss: 2.3028 - accuracy: 0.0997 - val_loss: 2.3030 - val_accuracy: 0.0920\n",
            "Epoch 21/30\n",
            "1407/1407 [==============================] - 30s 21ms/step - loss: 2.3028 - accuracy: 0.0978 - val_loss: 2.3027 - val_accuracy: 0.1038\n",
            "Epoch 22/30\n",
            "1407/1407 [==============================] - 30s 21ms/step - loss: 2.3028 - accuracy: 0.1000 - val_loss: 2.3025 - val_accuracy: 0.0972\n",
            "Epoch 23/30\n",
            "1407/1407 [==============================] - 30s 21ms/step - loss: 2.3028 - accuracy: 0.0986 - val_loss: 2.3026 - val_accuracy: 0.1040\n",
            "Epoch 24/30\n",
            "1407/1407 [==============================] - 30s 22ms/step - loss: 2.3028 - accuracy: 0.0992 - val_loss: 2.3028 - val_accuracy: 0.0972\n",
            "Epoch 25/30\n",
            "1407/1407 [==============================] - 30s 22ms/step - loss: 2.3028 - accuracy: 0.0998 - val_loss: 2.3026 - val_accuracy: 0.0972\n",
            "Epoch 26/30\n",
            "1407/1407 [==============================] - 30s 22ms/step - loss: 2.3028 - accuracy: 0.0980 - val_loss: 2.3028 - val_accuracy: 0.0972\n",
            "Epoch 27/30\n",
            "1407/1407 [==============================] - 31s 22ms/step - loss: 2.3028 - accuracy: 0.0998 - val_loss: 2.3027 - val_accuracy: 0.0920\n",
            "Epoch 28/30\n",
            "1407/1407 [==============================] - 30s 22ms/step - loss: 2.3028 - accuracy: 0.0982 - val_loss: 2.3027 - val_accuracy: 0.0972\n",
            "Epoch 29/30\n",
            "1407/1407 [==============================] - 30s 21ms/step - loss: 2.3028 - accuracy: 0.0999 - val_loss: 2.3025 - val_accuracy: 0.0972\n",
            "Epoch 30/30\n",
            "1407/1407 [==============================] - 30s 22ms/step - loss: 2.3028 - accuracy: 0.0997 - val_loss: 2.3027 - val_accuracy: 0.0976\n"
          ],
          "name": "stdout"
        }
      ]
    },
    {
      "cell_type": "markdown",
      "metadata": {
        "id": "LgCyP_rP48Js"
      },
      "source": [
        "# Data Agumentation"
      ]
    },
    {
      "cell_type": "code",
      "metadata": {
        "id": "bCLHRm_L5BTe"
      },
      "source": [
        "\n",
        "\n",
        "import numpy as np                                \n",
        "import matplotlib.pyplot as plt\n",
        "\n",
        "import tensorflow as tf\n",
        "from tensorflow import keras\n",
        "from keras.datasets import cifar10\n",
        "from keras.models import Sequential\n",
        "from keras.layers import Conv2D, MaxPooling2D, BatchNormalization\n",
        "from keras.optimizers import SGD, Adam\n",
        "from keras.regularizers import l2\n",
        "import h5py\n",
        "from keras.models import load_model\n",
        "from keras.preprocessing.image import ImageDataGenerator\n",
        "\n",
        "from keras.utils import np_utils"
      ],
      "execution_count": null,
      "outputs": []
    },
    {
      "cell_type": "code",
      "metadata": {
        "id": "pu35HbCB5DzP"
      },
      "source": [
        "data = tf.keras.datasets.cifar10\n",
        "(x_train, y_train), (x_test, y_test) = data.load_data()\n",
        "x_train = x_train.astype('float32')\n",
        "x_test = x_test.astype('float32')"
      ],
      "execution_count": null,
      "outputs": []
    },
    {
      "cell_type": "code",
      "metadata": {
        "id": "6oDkZsRyKbKw"
      },
      "source": [
        "#z-score\n",
        "mean = np.mean(x_train,axis=(0,1,2,3))\n",
        "std = np.std(x_train,axis=(0,1,2,3))\n",
        "x_train = (x_train-mean)/(std+1e-7)\n",
        "x_test = (x_test-mean)/(std+1e-7)\n",
        " \n",
        "num_classes = 10\n",
        "y_train = np_utils.to_categorical(y_train,num_classes)\n",
        "y_test = np_utils.to_categorical(y_test,num_classes)"
      ],
      "execution_count": null,
      "outputs": []
    },
    {
      "cell_type": "code",
      "metadata": {
        "id": "3tYlmQoSK5ol"
      },
      "source": [
        "model = keras.models.Sequential()\n",
        "model.add(keras.layers.Flatten(input_shape=[32, 32, 3]))\n",
        "model.add(keras.layers.Dense(800, activation=\"relu\"))\n",
        "model.add(Dropout(0.2))\n",
        "model.add(keras.layers.Dense(400, activation=\"relu\"))\n",
        "model.add(keras.layers.Dense(100, activation=\"relu\"))\n",
        "model.add(keras.layers.Dense(10, activation=\"softmax\"))"
      ],
      "execution_count": null,
      "outputs": []
    },
    {
      "cell_type": "code",
      "metadata": {
        "id": "7es5XpsWLrgE"
      },
      "source": [
        "datagen = ImageDataGenerator(\n",
        "    rotation_range=15,\n",
        "    width_shift_range=0.1,\n",
        "    height_shift_range=0.1,\n",
        "    horizontal_flip=True,\n",
        "    )\n",
        "datagen.fit(X_train)"
      ],
      "execution_count": null,
      "outputs": []
    },
    {
      "cell_type": "code",
      "metadata": {
        "id": "76wicbVLLfCw"
      },
      "source": [
        "batch_size = 64"
      ],
      "execution_count": null,
      "outputs": []
    },
    {
      "cell_type": "code",
      "metadata": {
        "id": "_6N4f5l4L1PR"
      },
      "source": [
        "model.compile(loss='categorical_crossentropy', optimizer=\"sgd\", metrics=['accuracy'])"
      ],
      "execution_count": null,
      "outputs": []
    },
    {
      "cell_type": "code",
      "metadata": {
        "id": "OE-hiW92MX3I"
      },
      "source": [
        "def lr_schedule(epoch):\n",
        "    lrate = 0.001\n",
        "    if epoch > 75:\n",
        "        lrate = 0.0005\n",
        "    if epoch > 100:\n",
        "        lrate = 0.0003\n",
        "    return lrate"
      ],
      "execution_count": null,
      "outputs": []
    },
    {
      "cell_type": "code",
      "metadata": {
        "id": "7ka68IQJNAPU"
      },
      "source": [
        "X_valid, X_train = x_train[:5000], x_train[5000:]\n",
        "y_valid, y_train = y_train[:5000], y_train[5000:]"
      ],
      "execution_count": null,
      "outputs": []
    },
    {
      "cell_type": "code",
      "metadata": {
        "id": "nUCvvwabNS__"
      },
      "source": [
        "from keras.callbacks import LearningRateScheduler"
      ],
      "execution_count": null,
      "outputs": []
    },
    {
      "cell_type": "code",
      "metadata": {
        "id": "HsVgIZN6MJAX",
        "outputId": "acbbc903-2684-406b-e6f0-da4286fedd50",
        "colab": {
          "base_uri": "https://localhost:8080/",
          "height": 714
        }
      },
      "source": [
        "model.fit_generator(datagen.flow(X_train, y_train, batch_size=batch_size),\\\n",
        "                    steps_per_epoch=X_train.shape[0] // batch_size,epochs=20,\\\n",
        "                    verbose=1,validation_data=(X_valid,y_valid)) "
      ],
      "execution_count": null,
      "outputs": [
        {
          "output_type": "stream",
          "text": [
            "Epoch 1/20\n",
            "703/703 [==============================] - 35s 50ms/step - loss: 0.9224 - accuracy: 0.6706 - val_loss: 0.9806 - val_accuracy: 0.6546\n",
            "Epoch 2/20\n",
            "703/703 [==============================] - 35s 50ms/step - loss: 0.9072 - accuracy: 0.6753 - val_loss: 0.9908 - val_accuracy: 0.6544\n",
            "Epoch 3/20\n",
            "703/703 [==============================] - 35s 50ms/step - loss: 0.9035 - accuracy: 0.6751 - val_loss: 0.9932 - val_accuracy: 0.6560\n",
            "Epoch 4/20\n",
            "703/703 [==============================] - 35s 50ms/step - loss: 0.9076 - accuracy: 0.6746 - val_loss: 0.9938 - val_accuracy: 0.6554\n",
            "Epoch 5/20\n",
            "703/703 [==============================] - 35s 50ms/step - loss: 0.9051 - accuracy: 0.6766 - val_loss: 1.0038 - val_accuracy: 0.6554\n",
            "Epoch 6/20\n",
            "703/703 [==============================] - 35s 50ms/step - loss: 0.9075 - accuracy: 0.6740 - val_loss: 1.0013 - val_accuracy: 0.6538\n",
            "Epoch 7/20\n",
            "703/703 [==============================] - 35s 50ms/step - loss: 0.9003 - accuracy: 0.6791 - val_loss: 0.9940 - val_accuracy: 0.6556\n",
            "Epoch 8/20\n",
            "703/703 [==============================] - 35s 50ms/step - loss: 0.9026 - accuracy: 0.6768 - val_loss: 1.0039 - val_accuracy: 0.6562\n",
            "Epoch 9/20\n",
            "703/703 [==============================] - 37s 52ms/step - loss: 0.9059 - accuracy: 0.6763 - val_loss: 1.0044 - val_accuracy: 0.6562\n",
            "Epoch 10/20\n",
            "703/703 [==============================] - 35s 50ms/step - loss: 0.9019 - accuracy: 0.6770 - val_loss: 0.9974 - val_accuracy: 0.6586\n",
            "Epoch 11/20\n",
            "703/703 [==============================] - 35s 50ms/step - loss: 0.8946 - accuracy: 0.6800 - val_loss: 1.0060 - val_accuracy: 0.6574\n",
            "Epoch 12/20\n",
            "703/703 [==============================] - 35s 49ms/step - loss: 0.8964 - accuracy: 0.6816 - val_loss: 0.9946 - val_accuracy: 0.6574\n",
            "Epoch 13/20\n",
            "703/703 [==============================] - 35s 50ms/step - loss: 0.8989 - accuracy: 0.6775 - val_loss: 0.9944 - val_accuracy: 0.6562\n",
            "Epoch 14/20\n",
            "703/703 [==============================] - 35s 50ms/step - loss: 0.8949 - accuracy: 0.6797 - val_loss: 0.9985 - val_accuracy: 0.6536\n",
            "Epoch 15/20\n",
            "703/703 [==============================] - 35s 50ms/step - loss: 0.8971 - accuracy: 0.6793 - val_loss: 0.9862 - val_accuracy: 0.6608\n",
            "Epoch 16/20\n",
            "703/703 [==============================] - 35s 50ms/step - loss: 0.8928 - accuracy: 0.6812 - val_loss: 0.9860 - val_accuracy: 0.6624\n",
            "Epoch 17/20\n",
            "703/703 [==============================] - 35s 49ms/step - loss: 0.8939 - accuracy: 0.6805 - val_loss: 0.9981 - val_accuracy: 0.6626\n",
            "Epoch 18/20\n",
            "703/703 [==============================] - 35s 49ms/step - loss: 0.8930 - accuracy: 0.6793 - val_loss: 0.9988 - val_accuracy: 0.6606\n",
            "Epoch 19/20\n",
            "703/703 [==============================] - 35s 50ms/step - loss: 0.8915 - accuracy: 0.6832 - val_loss: 0.9979 - val_accuracy: 0.6580\n",
            "Epoch 20/20\n",
            "703/703 [==============================] - 35s 50ms/step - loss: 0.8898 - accuracy: 0.6832 - val_loss: 0.9951 - val_accuracy: 0.6654\n"
          ],
          "name": "stdout"
        },
        {
          "output_type": "execute_result",
          "data": {
            "text/plain": [
              "<tensorflow.python.keras.callbacks.History at 0x7fd75eba0400>"
            ]
          },
          "metadata": {
            "tags": []
          },
          "execution_count": 54
        }
      ]
    },
    {
      "cell_type": "code",
      "metadata": {
        "id": "uCvFPuHW2dbe",
        "outputId": "2f5fe613-bbd0-4d93-ab9a-7da5a96a2d41",
        "colab": {
          "base_uri": "https://localhost:8080/",
          "height": 51
        }
      },
      "source": [
        "model.evaluate(x_test, y_test)"
      ],
      "execution_count": null,
      "outputs": [
        {
          "output_type": "stream",
          "text": [
            "313/313 [==============================] - 2s 7ms/step - loss: 1.0437 - accuracy: 0.6415\n"
          ],
          "name": "stdout"
        },
        {
          "output_type": "execute_result",
          "data": {
            "text/plain": [
              "[1.0436955690383911, 0.6414999961853027]"
            ]
          },
          "metadata": {
            "tags": []
          },
          "execution_count": 55
        }
      ]
    },
    {
      "cell_type": "code",
      "metadata": {
        "id": "RO_HeQph5bjm",
        "outputId": "2c896efc-28b3-481c-ff55-cbe7e039c4a2",
        "colab": {
          "base_uri": "https://localhost:8080/",
          "height": 268
        }
      },
      "source": [
        "# see example augmentation images\n",
        "for X_batch, y_batch in datagen.flow(X_train_full, y_train_full, batch_size=9):\n",
        "    for i in range(0, 9):\n",
        "        plt.subplot(330 + 1 + i)\n",
        "        plt.imshow(X_batch[i].astype(np.uint8))\n",
        "    plt.show()\n",
        "    break"
      ],
      "execution_count": null,
      "outputs": [
        {
          "output_type": "display_data",
          "data": {
            "image/png": "[encoded data removed]",
            "text/plain": [
              "<Figure size 432x288 with 9 Axes>"
            ]
          },
          "metadata": {
            "tags": [],
            "needs_background": "light"
          }
        }
      ]
    },
    {
      "cell_type": "code",
      "metadata": {
        "id": "6s1AoLKK61t1"
      },
      "source": [
        "\n",
        "# plotting helper function\n",
        "def plothist(hist):\n",
        "    plt.plot(hist.history['acc'])\n",
        "    plt.plot(hist.history['val_acc'])\n",
        "    plt.title('model accuracy')\n",
        "    plt.ylabel('accuracy')\n",
        "    plt.xlabel('epoch')\n",
        "    plt.legend(['train', 'test'], loc='upper left')\n",
        "    plt.show()"
      ],
      "execution_count": null,
      "outputs": []
    },
    {
      "cell_type": "markdown",
      "metadata": {
        "id": "pZ-d4OOTH59x"
      },
      "source": [
        "# End of Agument\n"
      ]
    },
    {
      "cell_type": "code",
      "metadata": {
        "id": "LRzg2AmJ64mx"
      },
      "source": [
        ""
      ],
      "execution_count": null,
      "outputs": []
    },
    {
      "cell_type": "code",
      "metadata": {
        "id": "cCI0-yoO4ttC"
      },
      "source": [
        "# X_valid, X_train = x_train[:5000] / 255.0, x_train[5000:] / 255.0\n",
        "# y_valid, y_train = y_train_full[:5000], y_train_full[5000:]"
      ],
      "execution_count": null,
      "outputs": []
    },
    {
      "cell_type": "code",
      "metadata": {
        "id": "iHYgIkeD5D8V"
      },
      "source": [
        "model = keras.models.Sequential()\n",
        "model.add(keras.layers.Flatten(input_shape=[32, 32, 3]))\n",
        "model.add(Dropout(0.2))\n",
        "model.add(keras.layers.Dense(800, activation=\"relu\"))\n",
        "model.add(Dropout(0.2))\n",
        "model.add(keras.layers.Dense(400, activation=\"relu\"))\n",
        "model.add(Dropout(0.2))\n",
        "model.add(keras.layers.Dense(100, activation=\"relu\"))\n",
        "model.add(Dropout(0.2))\n",
        "model.add(keras.layers.Dense(10, activation=\"softmax\"))"
      ],
      "execution_count": null,
      "outputs": []
    },
    {
      "cell_type": "code",
      "metadata": {
        "id": "30-6Akqs5Oom",
        "outputId": "067d412e-4155-4fb3-ad22-f63c7283ea92",
        "colab": {
          "base_uri": "https://localhost:8080/",
          "height": 323
        }
      },
      "source": [
        "model.summary()"
      ],
      "execution_count": null,
      "outputs": [
        {
          "output_type": "stream",
          "text": [
            "Model: \"sequential\"\n",
            "_________________________________________________________________\n",
            "Layer (type)                 Output Shape              Param #   \n",
            "=================================================================\n",
            "flatten (Flatten)            (None, 3072)              0         \n",
            "_________________________________________________________________\n",
            "dense (Dense)                (None, 800)               2458400   \n",
            "_________________________________________________________________\n",
            "dense_1 (Dense)              (None, 400)               320400    \n",
            "_________________________________________________________________\n",
            "dense_2 (Dense)              (None, 100)               40100     \n",
            "_________________________________________________________________\n",
            "dense_3 (Dense)              (None, 10)                1010      \n",
            "=================================================================\n",
            "Total params: 2,819,910\n",
            "Trainable params: 2,819,910\n",
            "Non-trainable params: 0\n",
            "_________________________________________________________________\n"
          ],
          "name": "stdout"
        }
      ]
    },
    {
      "cell_type": "code",
      "metadata": {
        "id": "9G18YBre5RpT"
      },
      "source": [
        "model.compile(loss=\"sparse_categorical_crossentropy\",\n",
        "optimizer=\"sgd\",\n",
        "metrics=[\"accuracy\"])"
      ],
      "execution_count": null,
      "outputs": []
    },
    {
      "cell_type": "code",
      "metadata": {
        "id": "PWZQLmyB5jGy",
        "outputId": "371da994-3915-4bd1-859e-ffbfa6cc8570",
        "colab": {
          "base_uri": "https://localhost:8080/",
          "height": 1000
        }
      },
      "source": [
        "history5 = model.fit(X_train, y_train, epochs=30,validation_data=(X_valid, y_valid))"
      ],
      "execution_count": null,
      "outputs": [
        {
          "output_type": "stream",
          "text": [
            "Epoch 1/30\n",
            "1407/1407 [==============================] - 25s 18ms/step - loss: 1.7845 - accuracy: 0.3649 - val_loss: 1.6110 - val_accuracy: 0.4334\n",
            "Epoch 2/30\n",
            "1407/1407 [==============================] - 25s 18ms/step - loss: 1.6710 - accuracy: 0.4058 - val_loss: 1.5365 - val_accuracy: 0.4544\n",
            "Epoch 3/30\n",
            "1407/1407 [==============================] - 25s 18ms/step - loss: 1.6058 - accuracy: 0.4308 - val_loss: 1.5002 - val_accuracy: 0.4698\n",
            "Epoch 4/30\n",
            "1407/1407 [==============================] - 25s 18ms/step - loss: 1.5493 - accuracy: 0.4499 - val_loss: 1.4629 - val_accuracy: 0.4854\n",
            "Epoch 5/30\n",
            "1407/1407 [==============================] - 26s 18ms/step - loss: 1.5121 - accuracy: 0.4643 - val_loss: 1.4411 - val_accuracy: 0.4996\n",
            "Epoch 6/30\n",
            "1407/1407 [==============================] - 27s 19ms/step - loss: 1.4777 - accuracy: 0.4774 - val_loss: 1.4219 - val_accuracy: 0.5038\n",
            "Epoch 7/30\n",
            "1407/1407 [==============================] - 26s 18ms/step - loss: 1.4424 - accuracy: 0.4879 - val_loss: 1.4146 - val_accuracy: 0.5056\n",
            "Epoch 8/30\n",
            "1407/1407 [==============================] - 25s 18ms/step - loss: 1.4234 - accuracy: 0.4945 - val_loss: 1.3933 - val_accuracy: 0.5136\n",
            "Epoch 9/30\n",
            "1407/1407 [==============================] - 26s 18ms/step - loss: 1.3882 - accuracy: 0.5079 - val_loss: 1.3723 - val_accuracy: 0.5124\n",
            "Epoch 10/30\n",
            "1407/1407 [==============================] - 25s 18ms/step - loss: 1.3660 - accuracy: 0.5146 - val_loss: 1.3688 - val_accuracy: 0.5220\n",
            "Epoch 11/30\n",
            "1407/1407 [==============================] - 28s 20ms/step - loss: 1.3444 - accuracy: 0.5224 - val_loss: 1.3484 - val_accuracy: 0.5260\n",
            "Epoch 12/30\n",
            "1407/1407 [==============================] - 26s 18ms/step - loss: 1.3226 - accuracy: 0.5285 - val_loss: 1.3417 - val_accuracy: 0.5290\n",
            "Epoch 13/30\n",
            "1407/1407 [==============================] - 26s 18ms/step - loss: 1.3015 - accuracy: 0.5386 - val_loss: 1.3288 - val_accuracy: 0.5330\n",
            "Epoch 14/30\n",
            "1407/1407 [==============================] - 26s 18ms/step - loss: 1.2789 - accuracy: 0.5462 - val_loss: 1.3196 - val_accuracy: 0.5368\n",
            "Epoch 15/30\n",
            "1407/1407 [==============================] - 25s 18ms/step - loss: 1.2624 - accuracy: 0.5505 - val_loss: 1.3152 - val_accuracy: 0.5312\n",
            "Epoch 16/30\n",
            "1407/1407 [==============================] - 26s 18ms/step - loss: 1.2402 - accuracy: 0.5600 - val_loss: 1.3107 - val_accuracy: 0.5432\n",
            "Epoch 17/30\n",
            "1407/1407 [==============================] - 26s 18ms/step - loss: 1.2273 - accuracy: 0.5650 - val_loss: 1.3149 - val_accuracy: 0.5432\n",
            "Epoch 18/30\n",
            "1407/1407 [==============================] - 28s 20ms/step - loss: 1.2044 - accuracy: 0.5705 - val_loss: 1.3009 - val_accuracy: 0.5420\n",
            "Epoch 19/30\n",
            "1407/1407 [==============================] - 26s 18ms/step - loss: 1.1885 - accuracy: 0.5783 - val_loss: 1.2850 - val_accuracy: 0.5522\n",
            "Epoch 20/30\n",
            "1407/1407 [==============================] - 25s 18ms/step - loss: 1.1731 - accuracy: 0.5819 - val_loss: 1.2831 - val_accuracy: 0.5540\n",
            "Epoch 21/30\n",
            "1407/1407 [==============================] - 25s 18ms/step - loss: 1.1566 - accuracy: 0.5861 - val_loss: 1.2854 - val_accuracy: 0.5534\n",
            "Epoch 22/30\n",
            "1407/1407 [==============================] - 26s 18ms/step - loss: 1.1378 - accuracy: 0.5936 - val_loss: 1.2772 - val_accuracy: 0.5514\n",
            "Epoch 23/30\n",
            "1407/1407 [==============================] - 26s 18ms/step - loss: 1.1216 - accuracy: 0.5958 - val_loss: 1.2699 - val_accuracy: 0.5588\n",
            "Epoch 24/30\n",
            "1407/1407 [==============================] - 26s 18ms/step - loss: 1.1161 - accuracy: 0.6036 - val_loss: 1.2665 - val_accuracy: 0.5612\n",
            "Epoch 25/30\n",
            "1407/1407 [==============================] - 26s 18ms/step - loss: 1.0966 - accuracy: 0.6070 - val_loss: 1.2673 - val_accuracy: 0.5584\n",
            "Epoch 26/30\n",
            "1407/1407 [==============================] - 26s 18ms/step - loss: 1.0812 - accuracy: 0.6137 - val_loss: 1.2570 - val_accuracy: 0.5610\n",
            "Epoch 27/30\n",
            "1407/1407 [==============================] - 26s 18ms/step - loss: 1.0675 - accuracy: 0.6204 - val_loss: 1.2645 - val_accuracy: 0.5616\n",
            "Epoch 28/30\n",
            "1407/1407 [==============================] - 26s 18ms/step - loss: 1.0524 - accuracy: 0.6228 - val_loss: 1.2657 - val_accuracy: 0.5646\n",
            "Epoch 29/30\n",
            "1407/1407 [==============================] - 26s 18ms/step - loss: 1.0462 - accuracy: 0.6272 - val_loss: 1.2687 - val_accuracy: 0.5606\n",
            "Epoch 30/30\n",
            "1407/1407 [==============================] - 27s 19ms/step - loss: 1.0253 - accuracy: 0.6342 - val_loss: 1.2754 - val_accuracy: 0.5564\n"
          ],
          "name": "stdout"
        }
      ]
    },
    {
      "cell_type": "code",
      "metadata": {
        "id": "Ivafpu1T5sxU",
        "outputId": "44abfb70-f905-46b2-910e-41733f5248a2",
        "colab": {
          "base_uri": "https://localhost:8080/",
          "height": 231
        }
      },
      "source": [
        "\n",
        "pd.DataFrame(history.history).plot(figsize=(8, 5))\n",
        "plt.grid(True)\n",
        "plt.gca().set_ylim(0, 2) # set the vertical range to [0-1]\n",
        "plt.show()"
      ],
      "execution_count": null,
      "outputs": [
        {
          "output_type": "error",
          "ename": "NameError",
          "evalue": "ignored",
          "traceback": [
            "\u001b[0;31m---------------------------------------------------------------------------\u001b[0m",
            "\u001b[0;31mNameError\u001b[0m                                 Traceback (most recent call last)",
            "\u001b[0;32m<ipython-input-12-23f46425f8cd>\u001b[0m in \u001b[0;36m<module>\u001b[0;34m()\u001b[0m\n\u001b[1;32m      1\u001b[0m \u001b[0;34m\u001b[0m\u001b[0m\n\u001b[0;32m----> 2\u001b[0;31m \u001b[0mpd\u001b[0m\u001b[0;34m.\u001b[0m\u001b[0mDataFrame\u001b[0m\u001b[0;34m(\u001b[0m\u001b[0mhistory\u001b[0m\u001b[0;34m.\u001b[0m\u001b[0mhistory\u001b[0m\u001b[0;34m)\u001b[0m\u001b[0;34m.\u001b[0m\u001b[0mplot\u001b[0m\u001b[0;34m(\u001b[0m\u001b[0mfigsize\u001b[0m\u001b[0;34m=\u001b[0m\u001b[0;34m(\u001b[0m\u001b[0;36m8\u001b[0m\u001b[0;34m,\u001b[0m \u001b[0;36m5\u001b[0m\u001b[0;34m)\u001b[0m\u001b[0;34m)\u001b[0m\u001b[0;34m\u001b[0m\u001b[0;34m\u001b[0m\u001b[0m\n\u001b[0m\u001b[1;32m      3\u001b[0m \u001b[0mplt\u001b[0m\u001b[0;34m.\u001b[0m\u001b[0mgrid\u001b[0m\u001b[0;34m(\u001b[0m\u001b[0;32mTrue\u001b[0m\u001b[0;34m)\u001b[0m\u001b[0;34m\u001b[0m\u001b[0;34m\u001b[0m\u001b[0m\n\u001b[1;32m      4\u001b[0m \u001b[0mplt\u001b[0m\u001b[0;34m.\u001b[0m\u001b[0mgca\u001b[0m\u001b[0;34m(\u001b[0m\u001b[0;34m)\u001b[0m\u001b[0;34m.\u001b[0m\u001b[0mset_ylim\u001b[0m\u001b[0;34m(\u001b[0m\u001b[0;36m0\u001b[0m\u001b[0;34m,\u001b[0m \u001b[0;36m2\u001b[0m\u001b[0;34m)\u001b[0m \u001b[0;31m# set the vertical range to [0-1]\u001b[0m\u001b[0;34m\u001b[0m\u001b[0;34m\u001b[0m\u001b[0m\n\u001b[1;32m      5\u001b[0m \u001b[0mplt\u001b[0m\u001b[0;34m.\u001b[0m\u001b[0mshow\u001b[0m\u001b[0;34m(\u001b[0m\u001b[0;34m)\u001b[0m\u001b[0;34m\u001b[0m\u001b[0;34m\u001b[0m\u001b[0m\n",
            "\u001b[0;31mNameError\u001b[0m: name 'history' is not defined"
          ]
        }
      ]
    },
    {
      "cell_type": "code",
      "metadata": {
        "id": "BOy_eAas-Jk7",
        "outputId": "da5ab10e-d98b-4007-f514-a896ffeecc99",
        "colab": {
          "base_uri": "https://localhost:8080/",
          "height": 51
        }
      },
      "source": [
        "model.evaluate(X_test, y_test)"
      ],
      "execution_count": null,
      "outputs": [
        {
          "output_type": "stream",
          "text": [
            "313/313 [==============================] - 2s 6ms/step - loss: 295.8722 - accuracy: 0.4057\n"
          ],
          "name": "stdout"
        },
        {
          "output_type": "execute_result",
          "data": {
            "text/plain": [
              "[295.8721618652344, 0.4056999981403351]"
            ]
          },
          "metadata": {
            "tags": []
          },
          "execution_count": 17
        }
      ]
    },
    {
      "cell_type": "code",
      "metadata": {
        "id": "BpUNLyC--jEj",
        "outputId": "36a84984-71d6-4c49-b7ec-785bfea00459",
        "colab": {
          "base_uri": "https://localhost:8080/",
          "height": 595
        }
      },
      "source": [
        "from keras import callbacks \n",
        "earlystopping = callbacks.EarlyStopping(monitor =\"val_loss\",  \n",
        "                                        mode =\"min\", patience = 5,  \n",
        "                                        restore_best_weights = True) \n",
        "  \n",
        "history = model.fit(X_train, y_train, epochs = 120,validation_data=(X_valid, y_valid),callbacks =[earlystopping]) "
      ],
      "execution_count": null,
      "outputs": [
        {
          "output_type": "stream",
          "text": [
            "Epoch 1/120\n",
            "1407/1407 [==============================] - 20s 14ms/step - loss: 1.8593 - accuracy: 0.3321 - val_loss: 1.9764 - val_accuracy: 0.2880\n",
            "Epoch 2/120\n",
            "1407/1407 [==============================] - 24s 17ms/step - loss: 1.6669 - accuracy: 0.4075 - val_loss: 1.6458 - val_accuracy: 0.4064\n",
            "Epoch 3/120\n",
            "1407/1407 [==============================] - 20s 14ms/step - loss: 1.5858 - accuracy: 0.4365 - val_loss: 1.8235 - val_accuracy: 0.3572\n",
            "Epoch 4/120\n",
            "1407/1407 [==============================] - 20s 15ms/step - loss: 1.5258 - accuracy: 0.4584 - val_loss: 1.5803 - val_accuracy: 0.4276\n",
            "Epoch 5/120\n",
            "1407/1407 [==============================] - 21s 15ms/step - loss: 1.4817 - accuracy: 0.4732 - val_loss: 1.5627 - val_accuracy: 0.4496\n",
            "Epoch 6/120\n",
            "1407/1407 [==============================] - 21s 15ms/step - loss: 1.4369 - accuracy: 0.4921 - val_loss: 1.7136 - val_accuracy: 0.3932\n",
            "Epoch 7/120\n",
            "1407/1407 [==============================] - 20s 14ms/step - loss: 1.3998 - accuracy: 0.5002 - val_loss: 1.5876 - val_accuracy: 0.4256\n",
            "Epoch 8/120\n",
            "1407/1407 [==============================] - 21s 15ms/step - loss: 1.3671 - accuracy: 0.5152 - val_loss: 1.9893 - val_accuracy: 0.3534\n",
            "Epoch 9/120\n",
            "1407/1407 [==============================] - 21s 15ms/step - loss: 1.3386 - accuracy: 0.5237 - val_loss: 1.4653 - val_accuracy: 0.4792\n",
            "Epoch 10/120\n",
            "1407/1407 [==============================] - 21s 15ms/step - loss: 1.3079 - accuracy: 0.5369 - val_loss: 1.5059 - val_accuracy: 0.4756\n",
            "Epoch 11/120\n",
            "1407/1407 [==============================] - 20s 15ms/step - loss: 1.2803 - accuracy: 0.5454 - val_loss: 1.5168 - val_accuracy: 0.4720\n",
            "Epoch 12/120\n",
            "1407/1407 [==============================] - 21s 15ms/step - loss: 1.2560 - accuracy: 0.5553 - val_loss: 1.3906 - val_accuracy: 0.5090\n",
            "Epoch 13/120\n",
            "1407/1407 [==============================] - 21s 15ms/step - loss: 1.2255 - accuracy: 0.5669 - val_loss: 1.5255 - val_accuracy: 0.4598\n",
            "Epoch 14/120\n",
            "1407/1407 [==============================] - 21s 15ms/step - loss: 1.2052 - accuracy: 0.5739 - val_loss: 1.4153 - val_accuracy: 0.5130\n",
            "Epoch 15/120\n",
            "1407/1407 [==============================] - 21s 15ms/step - loss: 1.1799 - accuracy: 0.5825 - val_loss: 1.5149 - val_accuracy: 0.4622\n",
            "Epoch 16/120\n",
            "1407/1407 [==============================] - 21s 15ms/step - loss: 1.1536 - accuracy: 0.5912 - val_loss: 1.4422 - val_accuracy: 0.4990\n",
            "Epoch 17/120\n",
            "1407/1407 [==============================] - 21s 15ms/step - loss: 1.1319 - accuracy: 0.5978 - val_loss: 1.4306 - val_accuracy: 0.4984\n"
          ],
          "name": "stdout"
        }
      ]
    },
    {
      "cell_type": "code",
      "metadata": {
        "id": "v_7_8GFHBWXf",
        "outputId": "b1f9267f-c4a3-4561-9417-2195c98e31d5",
        "colab": {
          "base_uri": "https://localhost:8080/",
          "height": 34
        }
      },
      "source": [
        "history.params"
      ],
      "execution_count": null,
      "outputs": [
        {
          "output_type": "execute_result",
          "data": {
            "text/plain": [
              "{'epochs': 120, 'steps': 1407, 'verbose': 1}"
            ]
          },
          "metadata": {
            "tags": []
          },
          "execution_count": 19
        }
      ]
    },
    {
      "cell_type": "code",
      "metadata": {
        "id": "LB3Ov3J48arP"
      },
      "source": [
        ""
      ],
      "execution_count": null,
      "outputs": []
    }
  ]
}